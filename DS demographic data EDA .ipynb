{
 "cells": [
  {
   "cell_type": "code",
   "execution_count": 1,
   "id": "8843dfe4",
   "metadata": {},
   "outputs": [],
   "source": [
    "import pandas as pd"
   ]
  },
  {
   "cell_type": "code",
   "execution_count": 2,
   "id": "7b8e49e6",
   "metadata": {},
   "outputs": [],
   "source": [
    "# Read data from file\n",
    "df = pd.read_csv(\"adult.data.csv\")"
   ]
  },
  {
   "cell_type": "code",
   "execution_count": 5,
   "id": "c16be46b",
   "metadata": {},
   "outputs": [
    {
     "data": {
      "text/plain": [
       "White                 27816\n",
       "Black                  3124\n",
       "Asian-Pac-Islander     1039\n",
       "Amer-Indian-Eskimo      311\n",
       "Other                   271\n",
       "Name: race, dtype: int64"
      ]
     },
     "execution_count": 5,
     "metadata": {},
     "output_type": "execute_result"
    }
   ],
   "source": [
    "# How many of each race are represented in this dataset? This should be a Pandas series with race names as the index labels.\n",
    "df.race.value_counts()"
   ]
  },
  {
   "cell_type": "code",
   "execution_count": 11,
   "id": "7efc9615",
   "metadata": {},
   "outputs": [
    {
     "data": {
      "text/plain": [
       "39.0"
      ]
     },
     "execution_count": 11,
     "metadata": {},
     "output_type": "execute_result"
    }
   ],
   "source": [
    "# What is the average age of men?\n",
    "round(df[df['sex'] == 'Male']['age'].mean(), 0)"
   ]
  },
  {
   "cell_type": "code",
   "execution_count": 13,
   "id": "09a43418",
   "metadata": {},
   "outputs": [
    {
     "data": {
      "text/plain": [
       "16.44605509658794"
      ]
     },
     "execution_count": 13,
     "metadata": {},
     "output_type": "execute_result"
    }
   ],
   "source": [
    "# What is the percentage of people who have a Bachelor's degree?\n",
    "(df.education.value_counts(normalize = True).Bachelors * 100)"
   ]
  },
  {
   "cell_type": "code",
   "execution_count": 54,
   "id": "e49285f7",
   "metadata": {},
   "outputs": [],
   "source": [
    "# What percentage of people with advanced education (`Bachelors`, `Masters`, or `Doctorate`) make more than 50K?\n",
    "# What percentage of people without advanced education make more than 50K? | with and without `Bachelors`, `Masters`, or `Doctorate`\n",
    "higher_education= df[df['education'].isin(['Bachelors', 'Masters', 'Doctorate'])]\n",
    "lower_education= df[~df['education'].isin(['Bachelors', 'Masters', 'Doctorate'])]"
   ]
  },
  {
   "cell_type": "code",
   "execution_count": 52,
   "id": "70256dfb",
   "metadata": {},
   "outputs": [
    {
     "data": {
      "text/plain": [
       "False    53.464157\n",
       "True     46.535843\n",
       "Name: salary, dtype: float64"
      ]
     },
     "execution_count": 52,
     "metadata": {},
     "output_type": "execute_result"
    }
   ],
   "source": [
    "# percentage with salary >50K for higher education \n",
    "(higher_education['salary'] == '>50K').value_counts(normalize = True) * 100"
   ]
  },
  {
   "cell_type": "code",
   "execution_count": 53,
   "id": "8c20fb15",
   "metadata": {},
   "outputs": [
    {
     "data": {
      "text/plain": [
       "False    82.62864\n",
       "True     17.37136\n",
       "Name: salary, dtype: float64"
      ]
     },
     "execution_count": 53,
     "metadata": {},
     "output_type": "execute_result"
    }
   ],
   "source": [
    "# percentage with salary >50K for lower education\n",
    "(lower_education['salary'] == '>50K').value_counts(normalize = True) * 100"
   ]
  },
  {
   "cell_type": "code",
   "execution_count": 57,
   "id": "3c9ade23",
   "metadata": {},
   "outputs": [
    {
     "data": {
      "text/plain": [
       "1"
      ]
     },
     "execution_count": 57,
     "metadata": {},
     "output_type": "execute_result"
    }
   ],
   "source": [
    "# What is the minimum number of hours a person works per week (hours-per-week feature)?\n",
    "min_work_hours = df['hours-per-week'].min()\n",
    "min_work_hours"
   ]
  },
  {
   "cell_type": "code",
   "execution_count": 63,
   "id": "5b7c4030",
   "metadata": {},
   "outputs": [
    {
     "name": "stderr",
     "output_type": "stream",
     "text": [
      "<ipython-input-63-4b217fef5a38>:3: UserWarning: Boolean Series key will be reindexed to match DataFrame index.\n",
      "  rich_min_workers = len(df[df['hours-per-week'] == min_work_hours][df['salary'] == '>50K'])\n"
     ]
    },
    {
     "data": {
      "text/plain": [
       "10.0"
      ]
     },
     "execution_count": 63,
     "metadata": {},
     "output_type": "execute_result"
    }
   ],
   "source": [
    "# What percentage of the people who work the minimum number of hours per week have a salary of >50K?\n",
    "num_min_workers = len(df[df['hours-per-week'] == min_work_hours])\n",
    "rich_min_workers = len(df[df['hours-per-week'] == min_work_hours][df['salary'] == '>50K'])\n",
    "\n",
    "rich_min_workers/num_min_workers * 100"
   ]
  },
  {
   "cell_type": "code",
   "execution_count": 79,
   "id": "52757ef9",
   "metadata": {},
   "outputs": [
    {
     "data": {
      "text/plain": [
       "'Iran'"
      ]
     },
     "execution_count": 79,
     "metadata": {},
     "output_type": "execute_result"
    }
   ],
   "source": [
    "# What country has the highest percentage of people that earn >50K?\n",
    "highest_earning_country = df[df['salary'] == '>50K']['native-country'].value_counts()\n",
    "country_count = df['native-country'].value_counts()\n",
    "\n",
    "((highest_earning_country)/(country_count)).idxmax()"
   ]
  },
  {
   "cell_type": "code",
   "execution_count": 80,
   "id": "5fb734bd",
   "metadata": {},
   "outputs": [
    {
     "name": "stderr",
     "output_type": "stream",
     "text": [
      "<ipython-input-80-63f6248c52c5>:2: UserWarning: Boolean Series key will be reindexed to match DataFrame index.\n",
      "  (df[df['salary'] == '>50K'][df['native-country'] == 'India']).occupation.value_counts().idxmax()\n"
     ]
    },
    {
     "data": {
      "text/plain": [
       "'Prof-specialty'"
      ]
     },
     "execution_count": 80,
     "metadata": {},
     "output_type": "execute_result"
    }
   ],
   "source": [
    "# Identify the most popular occupation for those who earn >50K in India.\n",
    "(df[df['salary'] == '>50K'][df['native-country'] == 'India']).occupation.value_counts().idxmax()"
   ]
  }
 ],
 "metadata": {
  "kernelspec": {
   "display_name": "Python 3",
   "language": "python",
   "name": "python3"
  },
  "language_info": {
   "codemirror_mode": {
    "name": "ipython",
    "version": 3
   },
   "file_extension": ".py",
   "mimetype": "text/x-python",
   "name": "python",
   "nbconvert_exporter": "python",
   "pygments_lexer": "ipython3",
   "version": "3.8.8"
  }
 },
 "nbformat": 4,
 "nbformat_minor": 5
}
